{
 "cells": [
  {
   "cell_type": "code",
   "execution_count": 27,
   "metadata": {},
   "outputs": [],
   "source": [
    "import re\n",
    "import nltk\n",
    "import pprint\n"
   ]
  },
  {
   "cell_type": "code",
   "execution_count": 2,
   "metadata": {},
   "outputs": [],
   "source": [
    "    raw_text = \"\"\"What kind of teva-service-desk the sense to speaking with you, miss survivor with their phone anymore ? Previous-ticket-number oh, i'm sorry, no. Ticket-number,\n",
    "            i'm locked-me-out new-password oh, even. The windows. Yet. Okay, could you please tell-me or, uh, user name ? Uh, yeah, kind of linklater. Yeah. Oh. Yeah, okay. Okay,\n",
    "            you're calling from star will stoneville correct ? Yes, okay, could you please tell me that i'm off here ? My steven wright. Okay, lemme see here one phone number of years.\n",
    "            It's uh, one, four, one, six, two, nine, one, eight, eight, eight, eight. Correct. Okay, i take your account so. Mhm. Mhm. Oh! Yeah. Oh, mhm, yeah. Oh! Yes, she smoked a\n",
    "            unlock it now. Okay, that would be good. Yes, my, you could try, though, okay, mhm. Oh, hm, hm. It looks like it's booting up good mhm. Okay, i am in. Thank you very much.\n",
    "            Do you get you get number in florida ? Assistance for something else ? Million fine. Okay, as, uh, can i ask ? You haven't ever try to use our virtual-assistant\n",
    "            teva-service-desk now, where you click on technology. I'm sorry say that again. Yes, it's. Uh, i wanna visit virtual-assistant it's all have a service now where you open\n",
    "            the laws, do you see it on your rice side ? It says, you're crazy. It is something like child with us in real time. If you have, uh, for example, other issue i, which is\n",
    "            there i have in the past, and, yeah, it's, just it's, really good, actually makes it very simple. Excellent. Okay, thank you, thank you, we should, i say, have a nice day,\n",
    "            thank you, bye bye bye, right ?\"\"\""
   ]
  },
  {
   "cell_type": "code",
   "execution_count": 21,
   "metadata": {},
   "outputs": [],
   "source": [
    "word_pattern = re.compile(\"(?:[a-zA-Z]+[-–’'`ʼ]?)*[a-zA-Z]+[’'`ʼ]?\")\n",
    "words = word_pattern.findall(raw_text)\n",
    "print(words)"
   ]
  },
  {
   "cell_type": "code",
   "execution_count": 16,
   "metadata": {},
   "outputs": [
    {
     "name": "stdout",
     "output_type": "stream",
     "text": [
      "['What', 'kind', 'of', 'teva-service-desk', 'the', 'sense', 'to', 'speaking', 'with', 'you', 'miss', 'survivor', 'with', 'their', 'phone', 'anymore', 'Previous-ticket-number', 'oh', \"i'm\", 'sorry', 'no', 'Ticket-number', \"i'm\", 'locked-me-out', 'new-password', 'oh', 'even', 'The', 'windows', 'Yet', 'Okay', 'could', 'you', 'please', 'tell-me', 'or', 'uh', 'user', 'name', 'Uh', 'yeah', 'kind', 'of', 'linklater', 'Yeah', 'Oh', 'Yeah', 'okay', 'Okay', \"you're\", 'calling', 'from', 'star', 'will', 'stoneville', 'correct', 'Yes', 'okay', 'could', 'you', 'please', 'tell', 'me', 'that', \"i'm\", 'off', 'here', 'My', 'steven', 'wright', 'Okay', 'lemme', 'see', 'here', 'one', 'phone', 'number', 'of', 'years', \"It's\", 'uh', 'one', 'four', 'one', 'six', 'two', 'nine', 'one', 'eight', 'eight', 'eight', 'eight', 'Correct', 'Okay', 'i', 'take', 'your', 'account', 'so', 'Mhm', 'Mhm', 'Oh', 'Yeah', 'Oh', 'mhm', 'yeah', 'Oh', 'Yes', 'she', 'smoked', 'a', 'unlock', 'it', 'now', 'Okay', 'that', 'would', 'be', 'good', 'Yes', 'my', 'you', 'could', 'try', 'though', 'okay', 'mhm', 'Oh', 'hm', 'hm', 'It', 'looks', 'like', \"it's\", 'booting', 'up', 'good', 'mhm', 'Okay', 'i', 'am', 'in', 'Thank', 'you', 'very', 'much', 'Do', 'you', 'get', 'you', 'get', 'number', 'in', 'florida', 'Assistance', 'for', 'something', 'else', 'Million', 'fine', 'Okay', 'as', 'uh', 'can', 'i', 'ask', 'You', \"haven't\", 'ever', 'try', 'to', 'use', 'our', 'virtual-assistant', 'teva-service-desk', 'now', 'where', 'you', 'click', 'on', 'technology', \"I'm\", 'sorry', 'say', 'that', 'again', 'Yes', \"it's\", 'Uh', 'i', 'wanna', 'visit', 'virtual-assistant', \"it's\", 'all', 'have', 'a', 'service', 'now', 'where', 'you', 'open', 'the', 'laws', 'do', 'you', 'see', 'it', 'on', 'your', 'rice', 'side', 'It', 'says', \"you're\", 'crazy', 'It', 'is', 'something', 'like', 'child', 'with', 'us', 'in', 'real', 'time', 'If', 'you', 'have', 'uh', 'for', 'example', 'other', 'issue', 'i', 'which', 'is', 'there', 'i', 'have', 'in', 'the', 'past', 'and', 'yeah', \"it's\", 'just', \"it's\", 'really', 'good', 'actually', 'makes', 'it', 'very', 'simple', 'Excellent', 'Okay', 'thank', 'you', 'thank', 'you', 'we', 'should', 'i', 'say', 'have', 'a', 'nice', 'day', 'thank', 'you', 'bye', 'bye', 'bye', 'right']\n"
     ]
    }
   ],
   "source": [
    "nltk_words = nltk.regexp_tokenize(raw_text, word_pattern)\n",
    "print(nltk_words)"
   ]
  },
  {
   "cell_type": "code",
   "execution_count": 4,
   "metadata": {},
   "outputs": [
    {
     "name": "stdout",
     "output_type": "stream",
     "text": [
      "{'four', 'where', 'makes', 'past', 'user', 'uh', 'the', 'open', 'actually', 'speaking', 'me', 'here', 'from', 'a', 'visit', 'with', 'other', 'us', 'if', 'else', 'tell-me', 'ever', 'hm', 'steven', 'rice', 'issue', 'nine', 'off', 'can', 'up', 'says', 'just', 'that', 'new-password', 'child', 'you', 'booting', 'excellent', 'calling', 'to', 'day', 'side', 'sorry', 'much', 'no', 'use', 'virtual-assistant', 'anymore', \"i'm\", 'like', 'in', 'for', 'wanna', 'bye', 'she', 'unlock', 'do', 'number', 'wright', 'smoked', 'florida', 'good', 'of', 'two', 'ask', 'technology', 'and', \"it's\", 'miss', 'mhm', 'okay', 'linklater', 'as', 'tell', 'account', \"you're\", 'on', 'am', 'example', 'six', 'it', 'locked-me-out', 'even', 'yes', 'assistance', 'looks', 'be', 'fine', 'please', 'stoneville', 'eight', 'lemme', 'teva-service-desk', 'or', 'crazy', 'would', 'nice', 'have', 'say', 'try', 'our', 'what', 'simple', 'my', 'though', 'yeah', 'is', 'laws', 'click', 'windows', 'could', 'correct', 'million', 'oh', 'get', 'their', 'star', 'see', 'ticket-number', 'time', 'your', 'yet', 'service', 'so', 'again', 'take', 'we', 'one', 'i', 'now', 'phone', 'real', 'kind', 'name', 'years', 'something', 'will', 'right', 'all', 'should', 'sense', 'previous-ticket-number', 'really', 'thank', 'which', 'there', \"haven't\", 'very', 'survivor'}\n"
     ]
    }
   ],
   "source": [
    "# Normalise\n",
    "norm = set(w.lower() for w in words)\n",
    "print(norm)"
   ]
  },
  {
   "cell_type": "code",
   "execution_count": 28,
   "metadata": {},
   "outputs": [
    {
     "name": "stdout",
     "output_type": "stream",
     "text": [
      "['What kind of teva-service-desk the sense to speaking with you, miss survivor '\n",
      " 'with their phone anymore ?',\n",
      " \"Previous-ticket-number oh, i'm sorry, no.\",\n",
      " \"Ticket-number,\\n        i'm locked-me-out new-password oh, even.\",\n",
      " 'The windows.',\n",
      " 'Yet.',\n",
      " 'Okay, could you please tell-me or, uh, user name ?',\n",
      " 'Uh, yeah, kind of linklater.',\n",
      " 'Yeah.',\n",
      " 'Oh.',\n",
      " 'Yeah, okay.',\n",
      " \"Okay,\\n        you're calling from star will stoneville correct ?\",\n",
      " \"Yes, okay, could you please tell me that i'm off here ?\",\n",
      " 'My steven wright.',\n",
      " 'Okay, lemme see here one phone number of years.',\n",
      " \"It's uh, one, four, one, six, two, nine, one, eight, eight, eight, eight.\",\n",
      " 'Correct.',\n",
      " 'Okay, i take your account so.',\n",
      " 'Mhm.',\n",
      " 'Mhm.',\n",
      " 'Oh!',\n",
      " 'Yeah.',\n",
      " 'Oh, mhm, yeah.',\n",
      " 'Oh!',\n",
      " 'Yes, she smoked a\\n        unlock it now.',\n",
      " 'Okay, that would be good.',\n",
      " 'Yes, my, you could try, though, okay, mhm.',\n",
      " 'Oh, hm, hm.',\n",
      " \"It looks like it's booting up good mhm.\",\n",
      " 'Okay, i am in.',\n",
      " 'Thank you very much.',\n",
      " 'Do you get you get number in florida ?',\n",
      " 'Assistance for something else ?',\n",
      " 'Million fine.',\n",
      " 'Okay, as, uh, can i ask ?',\n",
      " \"You haven't ever try to use our virtual-assistant\\n\"\n",
      " '        teva-service-desk now, where you click on technology.',\n",
      " \"I'm sorry say that again.\",\n",
      " \"Yes, it's.\",\n",
      " \"Uh, i wanna visit virtual-assistant it's all have a service now where you \"\n",
      " 'open\\n'\n",
      " '        the laws, do you see it on your rice side ?',\n",
      " \"It says, you're crazy.\",\n",
      " 'It is something like child with us in real time.',\n",
      " 'If you have, uh, for example, other issue i, which is\\n'\n",
      " \"        there i have in the past, and, yeah, it's, just it's, really good, \"\n",
      " 'actually makes it very simple.',\n",
      " 'Excellent.',\n",
      " 'Okay, thank you, thank you, we should, i say, have a nice day,\\n'\n",
      " '        thank you, bye bye bye, right ?']\n"
     ]
    }
   ],
   "source": [
    "# Segmentation\n",
    "sentences = nltk.sent_tokenize(raw_text)\n",
    "pprint.pprint(sentences)"
   ]
  }
 ],
 "metadata": {
  "kernelspec": {
   "display_name": "Python 3",
   "language": "python",
   "name": "python3"
  },
  "language_info": {
   "codemirror_mode": {
    "name": "ipython",
    "version": 3
   },
   "file_extension": ".py",
   "mimetype": "text/x-python",
   "name": "python",
   "nbconvert_exporter": "python",
   "pygments_lexer": "ipython3",
   "version": "3.7.0"
  }
 },
 "nbformat": 4,
 "nbformat_minor": 2
}
